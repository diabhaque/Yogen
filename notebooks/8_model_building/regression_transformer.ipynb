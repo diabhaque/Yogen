{
 "cells": [
  {
   "cell_type": "code",
   "execution_count": 4,
   "metadata": {},
   "outputs": [],
   "source": [
    "import warnings\n",
    "import json\n",
    "\n",
    "import numpy as np\n",
    "import pandas as pd\n",
    "import matplotlib.pyplot as plt\n",
    "\n",
    "from tqdm.auto import tqdm\n",
    "\n",
    "import torch\n",
    "\n",
    "from torchvision import transforms\n",
    "from torcheval.metrics import R2Score\n",
    "\n",
    "from torch.utils.data import DataLoader, ConcatDataset\n",
    "from torch.optim import AdamW\n",
    "\n",
    "from transformers import get_scheduler\n",
    "from sklearn.metrics import PredictionErrorDisplay\n",
    "\n",
    "from jre_utils.config import asset_types\n",
    "from jre_utils.datapath import (\n",
    "    model_ready_data_paths,\n",
    "    model_output_data_paths,\n",
    "    DATA_DIRECTORY_PATH,\n",
    ")\n",
    "from jre_utils.process import get_most_active_municipalities\n",
    "from jre_utils.data import JapanRETimeSeriesDataset, PadAndMask, ToNumpy, ToTensor\n",
    "from jre_utils.models import (\n",
    "    TimeSeriesTransformerModel,\n",
    "    TimeSeriesTransformerDecoderModel,\n",
    ")\n",
    "from jre_utils.metrics import MSELossWeighted\n",
    "from jre_utils.engine import (\n",
    "    evaluate_weighted,\n",
    "    train_weighted,\n",
    ")\n",
    "from jre_utils.backtest import predict_returns\n",
    "\n",
    "warnings.filterwarnings(\"ignore\")\n",
    "pd.set_option(\"display.max_columns\", None)"
   ]
  },
  {
   "cell_type": "code",
   "execution_count": 2,
   "metadata": {},
   "outputs": [],
   "source": [
    "# The goal is to have as many factors as possible to help the model discern differences between municipalities with high growth, and municipalities with low growth."
   ]
  },
  {
   "cell_type": "markdown",
   "metadata": {},
   "source": [
    "### Config\n"
   ]
  },
  {
   "cell_type": "code",
   "execution_count": 5,
   "metadata": {},
   "outputs": [],
   "source": [
    "dataset_asset_type = \"combined\"\n",
    "dataset_key = \"transactions\"\n",
    "years_ahead = 4\n",
    "\n",
    "metrics = {\n",
    "    \"median\": \"unit_price_median\",\n",
    "    \"gmean\": \"unit_price_gmean\",\n",
    "    \"robust\": \"robust_price_index\",\n",
    "    \"ols\": \"ols_price_index\",\n",
    "}\n",
    "\n",
    "granularity_columns = [\"area\", \"area_code\"]\n",
    "group_by_columns = granularity_columns + [\"year\"]\n",
    "\n",
    "metric_key = \"robust\"\n",
    "metric = metrics[metric_key]\n",
    "metric_sharpe = metric + \"_sharpe\"\n",
    "normalized_metric_sharpe = metric_sharpe + \"_normalized_yearly\""
   ]
  },
  {
   "cell_type": "code",
   "execution_count": 6,
   "metadata": {},
   "outputs": [],
   "source": [
    "start_year = 2007\n",
    "eval_start_year = 2021  # eval_years = [2021, 2022]\n",
    "eval_end_year = 2022\n",
    "\n",
    "dataset_name = f\"sequence_{dataset_key}_{dataset_asset_type}_{metric_key}_{years_ahead}\"\n",
    "output_dataset_name = f\"{dataset_name}_{eval_start_year}\"\n",
    "model_ready_data_path = model_ready_data_paths[dataset_name]\n",
    "model_output_data_path = model_output_data_paths[output_dataset_name]"
   ]
  },
  {
   "cell_type": "code",
   "execution_count": 7,
   "metadata": {},
   "outputs": [],
   "source": [
    "id_columns = [\"area_code\", \"area\", \"year\"]\n",
    "\n",
    "original_factor_columns = [\n",
    "    \"total_tax_growth\",\n",
    "    \"taxable_income_growth\",\n",
    "    \"taxable_income_per_taxpayer_growth\",\n",
    "    \"net_migration_ratio\",\n",
    "    \"new_dwellings_ratio\",\n",
    "    \"taxpayer_count_growth\",\n",
    "]\n",
    "\n",
    "factor_log_normalize_columns = [\n",
    "    \"population\",\n",
    "    \"taxable_income_growth\",\n",
    "    \"taxable_income_per_taxpayer_growth\",\n",
    "    \"net_migration_ratio\",\n",
    "    \"new_dwellings_ratio\",\n",
    "    \"taxpayer_count_growth\",\n",
    "]\n",
    "\n",
    "factor_normalize_columns = []\n",
    "\n",
    "factor_maintain_columns = [\n",
    "    \"migrations_is_available\",\n",
    "    \"taxable_income_is_available\",\n",
    "    \"dwellings_is_available\",\n",
    "    \"total_tax_is_available\",\n",
    "]\n",
    "\n",
    "factor_columns = (\n",
    "    [f\"{column}_log_normalized_yearly\" for column in factor_log_normalize_columns]\n",
    "    + [f\"{column}_normalized_yearly\" for column in factor_normalize_columns]\n",
    "    + factor_maintain_columns\n",
    "    # + original_factor_columns\n",
    ")\n",
    "\n",
    "final_factor_columns = (\n",
    "    factor_normalize_columns + factor_log_normalize_columns + factor_columns\n",
    ")"
   ]
  },
  {
   "cell_type": "code",
   "execution_count": 8,
   "metadata": {},
   "outputs": [],
   "source": [
    "# asset_types_to_train = list(asset_types.keys())\n",
    "asset_types_to_train = [\"building\"]\n",
    "asset_types_as_factors = list(set(asset_types_to_train + [\"building\"]))\n",
    "\n",
    "# Test withour price factors\n",
    "# core_log_normalize_columns = []\n",
    "# core_normalize_columns = []\n",
    "core_log_normalize_columns = [\"count\", \"yearly_price_growth\"]\n",
    "core_normalize_columns = [metric_sharpe]\n",
    "core_maintain_columns = [\"metric_sharpe_is_available\"]\n",
    "\n",
    "core_columns = (\n",
    "    [f\"{column}_log_normalized_yearly\" for column in core_log_normalize_columns]\n",
    "    + [f\"{column}_normalized_yearly\" for column in core_normalize_columns]\n",
    "    + core_maintain_columns\n",
    ")\n",
    "\n",
    "# combined_core_columns = [\n",
    "#     f\"{asset_type}_{column}\"\n",
    "#     for column in core_columns\n",
    "#     for asset_type in asset_types_as_factors\n",
    "# ]"
   ]
  },
  {
   "cell_type": "code",
   "execution_count": 9,
   "metadata": {},
   "outputs": [],
   "source": [
    "# feature_columns = factor_columns + combined_core_columns + [\"land\", \"condo\"]\n",
    "# extra_prediction_columns = [f\"{column}_log_normalized_yearly\" for column in factor_log_normalize_columns]"
   ]
  },
  {
   "cell_type": "code",
   "execution_count": 10,
   "metadata": {},
   "outputs": [],
   "source": [
    "extra_prediction_columns = []\n",
    "\n",
    "\n",
    "def get_feature_columns_for_asset_type(asset_type, include_label=True):\n",
    "    asset_core_columns = [f\"{asset_type}_{column}\" for column in core_columns]\n",
    "    return (\n",
    "        asset_core_columns\n",
    "        + factor_columns\n",
    "        + ([\"land\", \"condo\"] if include_label else [])\n",
    "    )"
   ]
  },
  {
   "cell_type": "code",
   "execution_count": 11,
   "metadata": {},
   "outputs": [],
   "source": [
    "def drop_invalid_rows(df, column):\n",
    "    return df[~df[column].isna()].reset_index(drop=True)"
   ]
  },
  {
   "cell_type": "markdown",
   "metadata": {},
   "source": [
    "### Dataset Prep\n"
   ]
  },
  {
   "cell_type": "code",
   "execution_count": 13,
   "metadata": {},
   "outputs": [
    {
     "name": "stdout",
     "output_type": "stream",
     "text": [
      "building -> Train: (10214, 81), Eval: (2222, 81)\n"
     ]
    }
   ],
   "source": [
    "df = pd.read_csv(model_ready_data_path)\n",
    "df = df[df[\"year\"] <= eval_end_year]\n",
    "df = df.sample(frac=1).reset_index(drop=True)\n",
    "df = df.sort_values(by=[\"year\"]).reset_index(drop=True)\n",
    "# df = get_most_active_municipalities(df, count_column=f\"population\", n=500)\n",
    "\n",
    "df[\"area_code\"] = df[\"area_code\"].astype(str)\n",
    "\n",
    "# Weighting by population\n",
    "df[\"log_population\"] = df[\"population\"].apply(lambda x: np.log10(1 + x))\n",
    "df[\"weight\"] = df.groupby(\"year\")[\"log_population\"].transform(lambda x: x - x.min() + 1)\n",
    "# df[\"weight\"] = 1\n",
    "\n",
    "# Split into Train and Eval\n",
    "train_df = df[(df[\"year\"] >= start_year) & (df[\"year\"] < eval_start_year)]\n",
    "eval_df = df[df[\"year\"] >= eval_start_year]\n",
    "\n",
    "train_dfs = {\n",
    "    asset_type: drop_invalid_rows(train_df, f\"{asset_type}_{normalized_metric_sharpe}\")\n",
    "    for asset_type in asset_types_to_train\n",
    "}\n",
    "\n",
    "eval_dfs = {\n",
    "    asset_type: drop_invalid_rows(eval_df, f\"{asset_type}_{normalized_metric_sharpe}\")\n",
    "    for asset_type in asset_types_to_train\n",
    "}\n",
    "\n",
    "# Finally\n",
    "df = df.fillna(0)\n",
    "\n",
    "for asset_type in asset_types_to_train:\n",
    "    print(\n",
    "        f\"{asset_type} -> Train: {train_dfs[asset_type].shape}, Eval: {eval_dfs[asset_type].shape}\"\n",
    "    )"
   ]
  },
  {
   "cell_type": "code",
   "execution_count": 14,
   "metadata": {},
   "outputs": [
    {
     "data": {
      "text/plain": [
       "<Axes: ylabel='Frequency'>"
      ]
     },
     "execution_count": 14,
     "metadata": {},
     "output_type": "execute_result"
    },
    {
     "data": {
      "image/png": "[encoded data removed]",
      "text/plain": [
       "<Figure size 640x480 with 1 Axes>"
      ]
     },
     "metadata": {},
     "output_type": "display_data"
    }
   ],
   "source": [
    "df[\"weight\"].plot.hist(bins=100)"
   ]
  },
  {
   "cell_type": "code",
   "execution_count": 15,
   "metadata": {},
   "outputs": [
    {
     "data": {
      "text/html": [
       "<div>\n",
       "<style scoped>\n",
       "    .dataframe tbody tr th:only-of-type {\n",
       "        vertical-align: middle;\n",
       "    }\n",
       "\n",
       "    .dataframe tbody tr th {\n",
       "        vertical-align: top;\n",
       "    }\n",
       "\n",
       "    .dataframe thead th {\n",
       "        text-align: right;\n",
       "    }\n",
       "</style>\n",
       "<table border=\"1\" class=\"dataframe\">\n",
       "  <thead>\n",
       "    <tr style=\"text-align: right;\">\n",
       "      <th></th>\n",
       "      <th>year</th>\n",
       "      <th>building_robust_price_index_sharpe_normalized_yearly</th>\n",
       "    </tr>\n",
       "  </thead>\n",
       "  <tbody>\n",
       "    <tr>\n",
       "      <th>53</th>\n",
       "      <td>2010</td>\n",
       "      <td>0.127597</td>\n",
       "    </tr>\n",
       "    <tr>\n",
       "      <th>167</th>\n",
       "      <td>2011</td>\n",
       "      <td>-0.524783</td>\n",
       "    </tr>\n",
       "    <tr>\n",
       "      <th>831</th>\n",
       "      <td>2012</td>\n",
       "      <td>-0.291025</td>\n",
       "    </tr>\n",
       "    <tr>\n",
       "      <th>1819</th>\n",
       "      <td>2013</td>\n",
       "      <td>0.857159</td>\n",
       "    </tr>\n",
       "    <tr>\n",
       "      <th>2552</th>\n",
       "      <td>2014</td>\n",
       "      <td>3.179896</td>\n",
       "    </tr>\n",
       "    <tr>\n",
       "      <th>4422</th>\n",
       "      <td>2015</td>\n",
       "      <td>3.077448</td>\n",
       "    </tr>\n",
       "    <tr>\n",
       "      <th>5678</th>\n",
       "      <td>2016</td>\n",
       "      <td>6.424525</td>\n",
       "    </tr>\n",
       "    <tr>\n",
       "      <th>6139</th>\n",
       "      <td>2017</td>\n",
       "      <td>6.857898</td>\n",
       "    </tr>\n",
       "    <tr>\n",
       "      <th>7481</th>\n",
       "      <td>2018</td>\n",
       "      <td>6.592115</td>\n",
       "    </tr>\n",
       "    <tr>\n",
       "      <th>8137</th>\n",
       "      <td>2019</td>\n",
       "      <td>2.536894</td>\n",
       "    </tr>\n",
       "    <tr>\n",
       "      <th>9123</th>\n",
       "      <td>2020</td>\n",
       "      <td>2.078865</td>\n",
       "    </tr>\n",
       "  </tbody>\n",
       "</table>\n",
       "</div>"
      ],
      "text/plain": [
       "      year  building_robust_price_index_sharpe_normalized_yearly\n",
       "53    2010                                           0.127597   \n",
       "167   2011                                          -0.524783   \n",
       "831   2012                                          -0.291025   \n",
       "1819  2013                                           0.857159   \n",
       "2552  2014                                           3.179896   \n",
       "4422  2015                                           3.077448   \n",
       "5678  2016                                           6.424525   \n",
       "6139  2017                                           6.857898   \n",
       "7481  2018                                           6.592115   \n",
       "8137  2019                                           2.536894   \n",
       "9123  2020                                           2.078865   "
      ]
     },
     "execution_count": 15,
     "metadata": {},
     "output_type": "execute_result"
    }
   ],
   "source": [
    "asset_type = \"building\"\n",
    "tmp_train_df, tmp_eval_df = train_dfs[asset_type], eval_dfs[asset_type]\n",
    "\n",
    "tmp_train_df[(tmp_train_df[\"area_code\"] == \"13102\")][\n",
    "    [\"year\", f\"{asset_type}_{normalized_metric_sharpe}\"]\n",
    "]"
   ]
  },
  {
   "cell_type": "code",
   "execution_count": 16,
   "metadata": {},
   "outputs": [
    {
     "data": {
      "text/html": [
       "<div>\n",
       "<style scoped>\n",
       "    .dataframe tbody tr th:only-of-type {\n",
       "        vertical-align: middle;\n",
       "    }\n",
       "\n",
       "    .dataframe tbody tr th {\n",
       "        vertical-align: top;\n",
       "    }\n",
       "\n",
       "    .dataframe thead th {\n",
       "        text-align: right;\n",
       "    }\n",
       "</style>\n",
       "<table border=\"1\" class=\"dataframe\">\n",
       "  <thead>\n",
       "    <tr style=\"text-align: right;\">\n",
       "      <th></th>\n",
       "      <th>year</th>\n",
       "      <th>building_robust_price_index_sharpe_normalized_yearly</th>\n",
       "    </tr>\n",
       "  </thead>\n",
       "  <tbody>\n",
       "    <tr>\n",
       "      <th>27</th>\n",
       "      <td>2021</td>\n",
       "      <td>1.225365</td>\n",
       "    </tr>\n",
       "    <tr>\n",
       "      <th>1829</th>\n",
       "      <td>2022</td>\n",
       "      <td>1.101701</td>\n",
       "    </tr>\n",
       "  </tbody>\n",
       "</table>\n",
       "</div>"
      ],
      "text/plain": [
       "      year  building_robust_price_index_sharpe_normalized_yearly\n",
       "27    2021                                           1.225365   \n",
       "1829  2022                                           1.101701   "
      ]
     },
     "execution_count": 16,
     "metadata": {},
     "output_type": "execute_result"
    }
   ],
   "source": [
    "tmp_eval_df[(tmp_eval_df[\"area_code\"] == \"13102\")][\n",
    "    [\"year\", f\"{asset_type}_{normalized_metric_sharpe}\"]\n",
    "]"
   ]
  },
  {
   "cell_type": "code",
   "execution_count": 17,
   "metadata": {},
   "outputs": [
    {
     "name": "stdout",
     "output_type": "stream",
     "text": [
      "Target: 1.2253654480384495\n"
     ]
    },
    {
     "data": {
      "text/html": [
       "<div>\n",
       "<style scoped>\n",
       "    .dataframe tbody tr th:only-of-type {\n",
       "        vertical-align: middle;\n",
       "    }\n",
       "\n",
       "    .dataframe tbody tr th {\n",
       "        vertical-align: top;\n",
       "    }\n",
       "\n",
       "    .dataframe thead th {\n",
       "        text-align: right;\n",
       "    }\n",
       "</style>\n",
       "<table border=\"1\" class=\"dataframe\">\n",
       "  <thead>\n",
       "    <tr style=\"text-align: right;\">\n",
       "      <th></th>\n",
       "      <th>building_count_log_normalized_yearly</th>\n",
       "      <th>building_yearly_price_growth_log_normalized_yearly</th>\n",
       "      <th>building_robust_price_index_sharpe_normalized_yearly</th>\n",
       "      <th>building_metric_sharpe_is_available</th>\n",
       "      <th>population_log_normalized_yearly</th>\n",
       "      <th>taxable_income_growth_log_normalized_yearly</th>\n",
       "      <th>taxable_income_per_taxpayer_growth_log_normalized_yearly</th>\n",
       "      <th>net_migration_ratio_log_normalized_yearly</th>\n",
       "      <th>new_dwellings_ratio_log_normalized_yearly</th>\n",
       "      <th>taxpayer_count_growth_log_normalized_yearly</th>\n",
       "      <th>migrations_is_available</th>\n",
       "      <th>taxable_income_is_available</th>\n",
       "      <th>dwellings_is_available</th>\n",
       "      <th>total_tax_is_available</th>\n",
       "    </tr>\n",
       "  </thead>\n",
       "  <tbody>\n",
       "    <tr>\n",
       "      <th>7230</th>\n",
       "      <td>0.750</td>\n",
       "      <td>0.439</td>\n",
       "      <td>0.857</td>\n",
       "      <td>1.0</td>\n",
       "      <td>1.060</td>\n",
       "      <td>1.041</td>\n",
       "      <td>0.734</td>\n",
       "      <td>3.232</td>\n",
       "      <td>3.046</td>\n",
       "      <td>0.799</td>\n",
       "      <td>1</td>\n",
       "      <td>1</td>\n",
       "      <td>1</td>\n",
       "      <td>1</td>\n",
       "    </tr>\n",
       "    <tr>\n",
       "      <th>8077</th>\n",
       "      <td>0.599</td>\n",
       "      <td>0.864</td>\n",
       "      <td>3.180</td>\n",
       "      <td>1.0</td>\n",
       "      <td>1.075</td>\n",
       "      <td>1.929</td>\n",
       "      <td>1.457</td>\n",
       "      <td>4.114</td>\n",
       "      <td>3.523</td>\n",
       "      <td>1.587</td>\n",
       "      <td>1</td>\n",
       "      <td>1</td>\n",
       "      <td>1</td>\n",
       "      <td>1</td>\n",
       "    </tr>\n",
       "    <tr>\n",
       "      <th>10188</th>\n",
       "      <td>0.540</td>\n",
       "      <td>0.799</td>\n",
       "      <td>3.077</td>\n",
       "      <td>1.0</td>\n",
       "      <td>1.095</td>\n",
       "      <td>1.181</td>\n",
       "      <td>-0.166</td>\n",
       "      <td>3.537</td>\n",
       "      <td>1.902</td>\n",
       "      <td>2.663</td>\n",
       "      <td>1</td>\n",
       "      <td>1</td>\n",
       "      <td>1</td>\n",
       "      <td>1</td>\n",
       "    </tr>\n",
       "    <tr>\n",
       "      <th>11618</th>\n",
       "      <td>0.585</td>\n",
       "      <td>0.476</td>\n",
       "      <td>6.425</td>\n",
       "      <td>1.0</td>\n",
       "      <td>1.110</td>\n",
       "      <td>1.491</td>\n",
       "      <td>0.894</td>\n",
       "      <td>4.079</td>\n",
       "      <td>7.613</td>\n",
       "      <td>1.467</td>\n",
       "      <td>1</td>\n",
       "      <td>1</td>\n",
       "      <td>1</td>\n",
       "      <td>1</td>\n",
       "    </tr>\n",
       "    <tr>\n",
       "      <th>12140</th>\n",
       "      <td>0.410</td>\n",
       "      <td>0.624</td>\n",
       "      <td>6.858</td>\n",
       "      <td>1.0</td>\n",
       "      <td>1.130</td>\n",
       "      <td>1.516</td>\n",
       "      <td>0.558</td>\n",
       "      <td>4.132</td>\n",
       "      <td>1.531</td>\n",
       "      <td>1.819</td>\n",
       "      <td>1</td>\n",
       "      <td>1</td>\n",
       "      <td>1</td>\n",
       "      <td>1</td>\n",
       "    </tr>\n",
       "  </tbody>\n",
       "</table>\n",
       "</div>"
      ],
      "text/plain": [
       "       building_count_log_normalized_yearly  \\\n",
       "7230                                  0.750   \n",
       "8077                                  0.599   \n",
       "10188                                 0.540   \n",
       "11618                                 0.585   \n",
       "12140                                 0.410   \n",
       "\n",
       "       building_yearly_price_growth_log_normalized_yearly  \\\n",
       "7230                                               0.439    \n",
       "8077                                               0.864    \n",
       "10188                                              0.799    \n",
       "11618                                              0.476    \n",
       "12140                                              0.624    \n",
       "\n",
       "       building_robust_price_index_sharpe_normalized_yearly  \\\n",
       "7230                                               0.857      \n",
       "8077                                               3.180      \n",
       "10188                                              3.077      \n",
       "11618                                              6.425      \n",
       "12140                                              6.858      \n",
       "\n",
       "       building_metric_sharpe_is_available  population_log_normalized_yearly  \\\n",
       "7230                                   1.0                             1.060   \n",
       "8077                                   1.0                             1.075   \n",
       "10188                                  1.0                             1.095   \n",
       "11618                                  1.0                             1.110   \n",
       "12140                                  1.0                             1.130   \n",
       "\n",
       "       taxable_income_growth_log_normalized_yearly  \\\n",
       "7230                                         1.041   \n",
       "8077                                         1.929   \n",
       "10188                                        1.181   \n",
       "11618                                        1.491   \n",
       "12140                                        1.516   \n",
       "\n",
       "       taxable_income_per_taxpayer_growth_log_normalized_yearly  \\\n",
       "7230                                               0.734          \n",
       "8077                                               1.457          \n",
       "10188                                             -0.166          \n",
       "11618                                              0.894          \n",
       "12140                                              0.558          \n",
       "\n",
       "       net_migration_ratio_log_normalized_yearly  \\\n",
       "7230                                       3.232   \n",
       "8077                                       4.114   \n",
       "10188                                      3.537   \n",
       "11618                                      4.079   \n",
       "12140                                      4.132   \n",
       "\n",
       "       new_dwellings_ratio_log_normalized_yearly  \\\n",
       "7230                                       3.046   \n",
       "8077                                       3.523   \n",
       "10188                                      1.902   \n",
       "11618                                      7.613   \n",
       "12140                                      1.531   \n",
       "\n",
       "       taxpayer_count_growth_log_normalized_yearly  migrations_is_available  \\\n",
       "7230                                         0.799                        1   \n",
       "8077                                         1.587                        1   \n",
       "10188                                        2.663                        1   \n",
       "11618                                        1.467                        1   \n",
       "12140                                        1.819                        1   \n",
       "\n",
       "       taxable_income_is_available  dwellings_is_available  \\\n",
       "7230                             1                       1   \n",
       "8077                             1                       1   \n",
       "10188                            1                       1   \n",
       "11618                            1                       1   \n",
       "12140                            1                       1   \n",
       "\n",
       "       total_tax_is_available  \n",
       "7230                        1  \n",
       "8077                        1  \n",
       "10188                       1  \n",
       "11618                       1  \n",
       "12140                       1  "
      ]
     },
     "execution_count": 17,
     "metadata": {},
     "output_type": "execute_result"
    }
   ],
   "source": [
    "from jre_utils.process import get_window\n",
    "\n",
    "idx = tmp_eval_df[(tmp_eval_df[\"area_code\"] == \"13102\")].index[-2]\n",
    "row = tmp_eval_df.iloc[idx]\n",
    "target = row[f\"{asset_type}_{normalized_metric_sharpe}\"]\n",
    "area_code, year = row[\"area_code\"], row[\"year\"]\n",
    "window = get_window(df, area_code, year - years_ahead, 5)\n",
    "\n",
    "print(f\"Target: {target}\")\n",
    "window[get_feature_columns_for_asset_type(asset_type, include_label=False)].round(3)\n",
    "# window"
   ]
  },
  {
   "cell_type": "code",
   "execution_count": 18,
   "metadata": {},
   "outputs": [],
   "source": [
    "# window[[\"year\", \"area_code\", \"building_unit_price_gmean_pct_chg_normalized_yearly\", \"population_log_normalized_yearly\"] + original_factor_columns].round(3).to_csv(\"sample.csv\", index=False)"
   ]
  },
  {
   "cell_type": "code",
   "execution_count": 19,
   "metadata": {},
   "outputs": [],
   "source": [
    "window_length = 5"
   ]
  },
  {
   "cell_type": "code",
   "execution_count": 20,
   "metadata": {},
   "outputs": [
    {
     "name": "stdout",
     "output_type": "stream",
     "text": [
      "0 (1, 14) (1,) [-4.00858992] [3.17081493]\n",
      "1 (1, 14) (1,) [0.27913275] [3.0786387]\n",
      "2 (1, 14) (1,) [0.16888121] [3.40491513]\n",
      "3 (1, 14) (1,) [0.06252937] [3.40896455]\n",
      "0 torch.Size([5, 14]) torch.Size([1]) tensor([-4.0086]) tensor([3.1708])\n",
      "1 torch.Size([5, 14]) torch.Size([1]) tensor([0.2791]) tensor([3.0786])\n",
      "2 torch.Size([5, 14]) torch.Size([1]) tensor([0.1689]) tensor([3.4049])\n",
      "3 torch.Size([5, 14]) torch.Size([1]) tensor([0.0625]) tensor([3.4090])\n"
     ]
    }
   ],
   "source": [
    "time_series_dataset = JapanRETimeSeriesDataset(\n",
    "    df,\n",
    "    tmp_train_df,\n",
    "    metrics=[f\"{asset_type}_{normalized_metric_sharpe}\"] + extra_prediction_columns,\n",
    "    weight_column=f\"weight\",\n",
    "    asset_type=asset_type,\n",
    "    feature_columns=get_feature_columns_for_asset_type(\n",
    "        asset_type, include_label=len(asset_types_to_train) > 1\n",
    "    ),\n",
    "    shift=years_ahead,\n",
    "    window_length=window_length,\n",
    ")\n",
    "\n",
    "time_series_dataset_transformed = JapanRETimeSeriesDataset(\n",
    "    df,\n",
    "    tmp_train_df,\n",
    "    metrics=[f\"{asset_type}_{normalized_metric_sharpe}\"] + extra_prediction_columns,\n",
    "    weight_column=f\"weight\",\n",
    "    asset_type=asset_type,\n",
    "    feature_columns=get_feature_columns_for_asset_type(\n",
    "        asset_type, include_label=len(asset_types_to_train) > 1\n",
    "    ),\n",
    "    transform=transforms.Compose(\n",
    "        [ToNumpy(), PadAndMask(pad_length=window_length), ToTensor()]\n",
    "    ),\n",
    "    shift=years_ahead,\n",
    "    window_length=window_length,\n",
    ")\n",
    "\n",
    "for i, sampleX in enumerate(time_series_dataset):\n",
    "    print(\n",
    "        i,\n",
    "        sampleX[\"window\"].shape,\n",
    "        sampleX[\"target\"].shape,\n",
    "        sampleX[\"target\"].values,\n",
    "        sampleX[\"weight\"].values,\n",
    "    )\n",
    "    if i == 3:\n",
    "        break\n",
    "\n",
    "\n",
    "for i, sampleY in enumerate(time_series_dataset_transformed):\n",
    "    print(\n",
    "        i,\n",
    "        sampleY[\"window\"].shape,\n",
    "        sampleY[\"target\"].shape,\n",
    "        sampleY[\"target\"],\n",
    "        sampleY[\"weight\"],\n",
    "    )\n",
    "    if i == 3:\n",
    "        break"
   ]
  },
  {
   "cell_type": "code",
   "execution_count": 21,
   "metadata": {},
   "outputs": [],
   "source": [
    "BATCH_SIZE = 256"
   ]
  },
  {
   "cell_type": "code",
   "execution_count": 22,
   "metadata": {},
   "outputs": [],
   "source": [
    "train_datasets = {\n",
    "    asset_type: JapanRETimeSeriesDataset(\n",
    "        df,\n",
    "        train_dfs[asset_type],\n",
    "        metrics=[f\"{asset_type}_{normalized_metric_sharpe}\"] + extra_prediction_columns,\n",
    "        weight_column=f\"weight\",\n",
    "        asset_type=asset_type,\n",
    "        feature_columns=get_feature_columns_for_asset_type(\n",
    "            asset_type, include_label=len(asset_types_to_train) > 1\n",
    "        ),\n",
    "        transform=transforms.Compose(\n",
    "            [ToNumpy(), PadAndMask(pad_length=window_length), ToTensor()]\n",
    "        ),\n",
    "        shift=years_ahead,\n",
    "        window_length=window_length,\n",
    "    )\n",
    "    for asset_type in asset_types_to_train\n",
    "}\n",
    "\n",
    "eval_datasets = {\n",
    "    asset_type: JapanRETimeSeriesDataset(\n",
    "        df,\n",
    "        eval_dfs[asset_type],\n",
    "        metrics=[f\"{asset_type}_{normalized_metric_sharpe}\"] + extra_prediction_columns,\n",
    "        weight_column=f\"weight\",\n",
    "        asset_type=asset_type,\n",
    "        feature_columns=get_feature_columns_for_asset_type(\n",
    "            asset_type, include_label=len(asset_types_to_train) > 1\n",
    "        ),\n",
    "        transform=transforms.Compose(\n",
    "            [ToNumpy(), PadAndMask(pad_length=window_length), ToTensor()]\n",
    "        ),\n",
    "        shift=years_ahead,\n",
    "        window_length=window_length,\n",
    "    )\n",
    "    for asset_type in asset_types_to_train\n",
    "}"
   ]
  },
  {
   "cell_type": "code",
   "execution_count": 23,
   "metadata": {},
   "outputs": [],
   "source": [
    "train_dataset = ConcatDataset(list(train_datasets.values()))\n",
    "eval_dataset = ConcatDataset(list(eval_datasets.values()))\n",
    "\n",
    "train_dataloader = DataLoader(\n",
    "    train_dataset, batch_size=BATCH_SIZE, shuffle=False, num_workers=0\n",
    ")\n",
    "\n",
    "eval_dataloader = DataLoader(\n",
    "    eval_dataset, batch_size=BATCH_SIZE, shuffle=False, num_workers=0\n",
    ")"
   ]
  },
  {
   "cell_type": "code",
   "execution_count": 24,
   "metadata": {},
   "outputs": [
    {
     "data": {
      "text/plain": [
       "40"
      ]
     },
     "execution_count": 24,
     "metadata": {},
     "output_type": "execute_result"
    }
   ],
   "source": [
    "len(train_dataloader)"
   ]
  },
  {
   "cell_type": "markdown",
   "metadata": {},
   "source": [
    "### Building the Transformer Model\n"
   ]
  },
  {
   "cell_type": "code",
   "execution_count": 25,
   "metadata": {},
   "outputs": [
    {
     "name": "stdout",
     "output_type": "stream",
     "text": [
      "Using mps device\n"
     ]
    }
   ],
   "source": [
    "device = (\n",
    "    \"cuda\"\n",
    "    if torch.cuda.is_available()\n",
    "    else \"mps\" if torch.backends.mps.is_available() else \"cpu\"\n",
    ")\n",
    "# device = \"cpu\"\n",
    "print(f\"Using {device} device\")"
   ]
  },
  {
   "cell_type": "code",
   "execution_count": 26,
   "metadata": {},
   "outputs": [],
   "source": [
    "# plot num weights over performance to see if size matters at all (H0: it doesn't matter)\n",
    "n_features = len(\n",
    "    get_feature_columns_for_asset_type(\n",
    "        asset_type, include_label=len(asset_types_to_train) > 1\n",
    "    )\n",
    ")\n",
    "nlayers = 4\n",
    "nhead = 4\n",
    "d_model = 32 * nhead\n",
    "d_hid = 32 * nhead\n",
    "dropout = 0\n",
    "enc_dropout = 0\n",
    "\n",
    "# n_features = len(feature_columns)\n",
    "# nlayers = 6\n",
    "# nhead = 6\n",
    "# d_hid = 64 * nhead\n",
    "# d_model = 64 * nhead # embedding dimensions\n",
    "# dropout = 0.1\n",
    "# enc_dropout = 0\n",
    "\n",
    "\n",
    "# model = TimeSeriesTransformerModel(\n",
    "#     n_features=n_features,\n",
    "#     d_model=d_model,\n",
    "#     nhead=nhead,\n",
    "#     d_hid=d_hid,\n",
    "#     nlayers=nlayers,\n",
    "#     target_size=len(extra_prediction_columns) + 1,\n",
    "#     dropout=dropout,\n",
    "#     enc_dropout=enc_dropout,\n",
    "#     device=device,\n",
    "# )\n",
    "\n",
    "model = TimeSeriesTransformerDecoderModel(\n",
    "    n_features=n_features,\n",
    "    d_model=d_model,\n",
    "    nhead=nhead,\n",
    "    d_hid=d_hid,\n",
    "    nlayers=nlayers,\n",
    "    target_size=len(extra_prediction_columns) + 1,\n",
    "    dropout=dropout,\n",
    "    enc_dropout=enc_dropout,\n",
    "    device=device,\n",
    ")\n",
    "\n",
    "model = model.to(device)"
   ]
  },
  {
   "cell_type": "code",
   "execution_count": 27,
   "metadata": {},
   "outputs": [
    {
     "name": "stdout",
     "output_type": "stream",
     "text": [
      "torch.Size([256, 5, 14]) torch.Size([256, 5]) torch.Size([256, 1]) torch.Size([256, 1])\n",
      "torch.Size([256, 1])\n",
      "Loss: 3.2232775688171387\n",
      "R2_score: -0.42345309257507324\n"
     ]
    }
   ],
   "source": [
    "model.eval()\n",
    "\n",
    "r2_score = R2Score(device=device)\n",
    "mse_loss_weighted = MSELossWeighted().to(device)\n",
    "\n",
    "with torch.no_grad():\n",
    "    for batch in eval_dataloader:\n",
    "        window = batch[\"window\"].to(device)\n",
    "        mask = batch[\"mask\"].to(device)\n",
    "        target = batch[\"target\"].to(device)\n",
    "        weight = batch[\"weight\"].to(device)\n",
    "\n",
    "        outputs = model(window, mask)\n",
    "        loss = mse_loss_weighted(outputs, target, weight)\n",
    "        r2_score.update(\n",
    "            outputs[:, 0].unsqueeze(1).to(device),\n",
    "            batch[\"target\"][:, 0].unsqueeze(1).to(device),  # get the first column\n",
    "        )\n",
    "\n",
    "        print(\n",
    "            batch[\"window\"].shape,\n",
    "            batch[\"mask\"].shape,\n",
    "            batch[\"target\"].shape,\n",
    "            batch[\"weight\"].shape,\n",
    "        )\n",
    "\n",
    "        print(outputs.shape)\n",
    "\n",
    "        print(\"Loss:\", loss.item())\n",
    "        print(\"R2_score:\", r2_score.compute().item())\n",
    "\n",
    "        break"
   ]
  },
  {
   "cell_type": "code",
   "execution_count": 28,
   "metadata": {},
   "outputs": [],
   "source": [
    "learning_rate = 3e-4  # 3e-4\n",
    "weight_decay = 1  # 1\n",
    "num_epochs = 30"
   ]
  },
  {
   "cell_type": "code",
   "execution_count": 29,
   "metadata": {},
   "outputs": [],
   "source": [
    "num_training_steps = num_epochs * len(train_dataloader)\n",
    "optimizer = AdamW(model.parameters(), lr=learning_rate, weight_decay=weight_decay)\n",
    "\n",
    "lr_scheduler = get_scheduler(\n",
    "    \"linear\",  # constant\n",
    "    optimizer=optimizer,\n",
    "    num_warmup_steps=0,\n",
    "    num_training_steps=num_training_steps,\n",
    ")\n",
    "\n",
    "train_losses, train_r2_scores = [], []\n",
    "eval_losses, eval_r2_scores = [], []"
   ]
  },
  {
   "cell_type": "code",
   "execution_count": 30,
   "metadata": {},
   "outputs": [
    {
     "name": "stdout",
     "output_type": "stream",
     "text": [
      "Epoch: 0\n",
      "Train Loss: 9.8624, Eval Loss: 7.3263\n",
      "Train R^2: 0.0078, Eval R^2: 0.1881\n",
      "Epoch: 1\n",
      "Train Loss: 9.7463, Eval Loss: 7.1377\n",
      "Train R^2: 0.0252, Eval R^2: 0.2262\n",
      "Epoch: 2\n",
      "Train Loss: 9.3622, Eval Loss: 6.8446\n",
      "Train R^2: 0.0552, Eval R^2: 0.2548\n",
      "Epoch: 3\n",
      "Train Loss: 8.9512, Eval Loss: 6.7482\n",
      "Train R^2: 0.0976, Eval R^2: 0.2582\n",
      "Epoch: 4\n",
      "Train Loss: 8.7455, Eval Loss: 6.8659\n",
      "Train R^2: 0.1165, Eval R^2: 0.2449\n",
      "Epoch: 5\n",
      "Train Loss: 8.4157, Eval Loss: 6.8355\n",
      "Train R^2: 0.1463, Eval R^2: 0.2532\n",
      "Epoch: 6\n",
      "Train Loss: 8.0974, Eval Loss: 6.7116\n",
      "Train R^2: 0.1764, Eval R^2: 0.2685\n",
      "Epoch: 7\n",
      "Train Loss: 8.0190, Eval Loss: 6.7468\n",
      "Train R^2: 0.1838, Eval R^2: 0.2660\n",
      "Epoch: 8\n",
      "Train Loss: 8.1594, Eval Loss: 6.9420\n",
      "Train R^2: 0.1681, Eval R^2: 0.2455\n",
      "Epoch: 9\n",
      "Train Loss: 8.2328, Eval Loss: 7.2455\n",
      "Train R^2: 0.1580, Eval R^2: 0.2126\n",
      "Epoch: 10\n",
      "Train Loss: 8.1758, Eval Loss: 6.7909\n",
      "Train R^2: 0.1636, Eval R^2: 0.2655\n",
      "Epoch: 11\n",
      "Train Loss: 7.8476, Eval Loss: 6.7992\n",
      "Train R^2: 0.1973, Eval R^2: 0.2655\n",
      "Epoch: 12\n",
      "Train Loss: 7.8217, Eval Loss: 6.7775\n",
      "Train R^2: 0.1998, Eval R^2: 0.2708\n",
      "Epoch: 13\n",
      "Train Loss: 7.8098, Eval Loss: 6.7840\n",
      "Train R^2: 0.1998, Eval R^2: 0.2684\n",
      "Epoch: 14\n",
      "Train Loss: 7.7170, Eval Loss: 6.7115\n",
      "Train R^2: 0.2075, Eval R^2: 0.2748\n",
      "Epoch: 15\n",
      "Train Loss: 7.7566, Eval Loss: 6.7164\n",
      "Train R^2: 0.2041, Eval R^2: 0.2727\n",
      "Epoch: 16\n",
      "Train Loss: 7.7959, Eval Loss: 6.8560\n",
      "Train R^2: 0.2001, Eval R^2: 0.2571\n",
      "Epoch: 17\n",
      "Train Loss: 7.7316, Eval Loss: 6.8024\n",
      "Train R^2: 0.2043, Eval R^2: 0.2597\n",
      "Epoch: 18\n",
      "Train Loss: 7.4882, Eval Loss: 6.7855\n",
      "Train R^2: 0.2279, Eval R^2: 0.2607\n",
      "Epoch: 19\n",
      "Train Loss: 7.3108, Eval Loss: 6.7725\n",
      "Train R^2: 0.2452, Eval R^2: 0.2633\n",
      "Epoch: 20\n",
      "Train Loss: 7.2310, Eval Loss: 6.7962\n",
      "Train R^2: 0.2529, Eval R^2: 0.2622\n",
      "Epoch: 21\n",
      "Train Loss: 7.1868, Eval Loss: 6.7886\n",
      "Train R^2: 0.2567, Eval R^2: 0.2632\n",
      "Epoch: 22\n",
      "Train Loss: 7.1109, Eval Loss: 6.7540\n",
      "Train R^2: 0.2635, Eval R^2: 0.2661\n",
      "Epoch: 23\n",
      "Train Loss: 7.0365, Eval Loss: 6.7657\n",
      "Train R^2: 0.2702, Eval R^2: 0.2640\n",
      "Epoch: 24\n",
      "Train Loss: 6.9911, Eval Loss: 6.8205\n",
      "Train R^2: 0.2745, Eval R^2: 0.2582\n",
      "Epoch: 25\n",
      "Train Loss: 6.9547, Eval Loss: 6.8767\n",
      "Train R^2: 0.2781, Eval R^2: 0.2530\n",
      "Epoch: 26\n",
      "Train Loss: 6.9282, Eval Loss: 6.8843\n",
      "Train R^2: 0.2810, Eval R^2: 0.2532\n",
      "Epoch: 27\n",
      "Train Loss: 6.9336, Eval Loss: 6.7819\n",
      "Train R^2: 0.2813, Eval R^2: 0.2632\n",
      "Epoch: 28\n",
      "Train Loss: 6.9407, Eval Loss: 6.7594\n",
      "Train R^2: 0.2812, Eval R^2: 0.2654\n"
     ]
    },
    {
     "ename": "KeyboardInterrupt",
     "evalue": "",
     "output_type": "error",
     "traceback": [
      "\u001b[0;31m---------------------------------------------------------------------------\u001b[0m",
      "\u001b[0;31mKeyboardInterrupt\u001b[0m                         Traceback (most recent call last)",
      "\u001b[0;32m/var/folders/76/12qtsv3s4k13p6gzp_5hwyj40000gn/T/ipykernel_38160/1956436429.py\u001b[0m in \u001b[0;36m?\u001b[0;34m()\u001b[0m\n\u001b[1;32m      6\u001b[0m \u001b[0;31m# progress_bar = tqdm(range(num_training_steps))\u001b[0m\u001b[0;34m\u001b[0m\u001b[0;34m\u001b[0m\u001b[0;34m\u001b[0m\u001b[0m\n\u001b[0;32m----> 7\u001b[0;31m \u001b[0;31m# 8, 8, 0.1 (4y)\u001b[0m\u001b[0;34m\u001b[0m\u001b[0;34m\u001b[0m\u001b[0;34m\u001b[0m\u001b[0m\n\u001b[0m\u001b[1;32m      8\u001b[0m \u001b[0;34m\u001b[0m\u001b[0m\n\u001b[1;32m      9\u001b[0m \u001b[0mprogress_bar\u001b[0m \u001b[0;34m=\u001b[0m \u001b[0;32mNone\u001b[0m\u001b[0;34m\u001b[0m\u001b[0;34m\u001b[0m\u001b[0m\n\u001b[1;32m     10\u001b[0m \u001b[0;34m\u001b[0m\u001b[0m\n",
      "\u001b[0;32m~/Desktop/Projects/japan_re/venv38/lib/python3.8/site-packages/jre_utils/engine.py\u001b[0m in \u001b[0;36m?\u001b[0;34m(model, dataloader, optimizer, lr_scheduler, progress_bar, device)\u001b[0m\n\u001b[1;32m     69\u001b[0m     \u001b[0mrunning_loss\u001b[0m \u001b[0;34m=\u001b[0m \u001b[0;36m0.0\u001b[0m\u001b[0;34m\u001b[0m\u001b[0;34m\u001b[0m\u001b[0m\n\u001b[1;32m     70\u001b[0m     \u001b[0mr2_score\u001b[0m \u001b[0;34m=\u001b[0m \u001b[0mR2Score\u001b[0m\u001b[0;34m(\u001b[0m\u001b[0mdevice\u001b[0m\u001b[0;34m=\u001b[0m\u001b[0mdevice\u001b[0m\u001b[0;34m)\u001b[0m\u001b[0;34m\u001b[0m\u001b[0;34m\u001b[0m\u001b[0m\n\u001b[1;32m     71\u001b[0m     \u001b[0mmse_loss_weighted\u001b[0m \u001b[0;34m=\u001b[0m \u001b[0mMSELossWeighted\u001b[0m\u001b[0;34m(\u001b[0m\u001b[0;34m)\u001b[0m\u001b[0;34m.\u001b[0m\u001b[0mto\u001b[0m\u001b[0;34m(\u001b[0m\u001b[0mdevice\u001b[0m\u001b[0;34m)\u001b[0m\u001b[0;34m\u001b[0m\u001b[0;34m\u001b[0m\u001b[0m\n\u001b[1;32m     72\u001b[0m \u001b[0;34m\u001b[0m\u001b[0m\n\u001b[0;32m---> 73\u001b[0;31m     \u001b[0;32mfor\u001b[0m \u001b[0mbatch\u001b[0m \u001b[0;32min\u001b[0m \u001b[0mdataloader\u001b[0m\u001b[0;34m:\u001b[0m\u001b[0;34m\u001b[0m\u001b[0;34m\u001b[0m\u001b[0m\n\u001b[0m\u001b[1;32m     74\u001b[0m         batch = {\n\u001b[1;32m     75\u001b[0m             \u001b[0mk\u001b[0m\u001b[0;34m:\u001b[0m \u001b[0mv\u001b[0m\u001b[0;34m.\u001b[0m\u001b[0mto\u001b[0m\u001b[0;34m(\u001b[0m\u001b[0mdevice\u001b[0m\u001b[0;34m)\u001b[0m \u001b[0;32mfor\u001b[0m \u001b[0mk\u001b[0m\u001b[0;34m,\u001b[0m \u001b[0mv\u001b[0m \u001b[0;32min\u001b[0m \u001b[0mbatch\u001b[0m\u001b[0;34m.\u001b[0m\u001b[0mitems\u001b[0m\u001b[0;34m(\u001b[0m\u001b[0;34m)\u001b[0m\u001b[0;34m\u001b[0m\u001b[0;34m\u001b[0m\u001b[0m\n\u001b[1;32m     76\u001b[0m         }  # may be faster to move whole dataloader to device at once\n",
      "\u001b[0;32m~/Desktop/Projects/japan_re/venv38/lib/python3.8/site-packages/torch/utils/data/dataloader.py\u001b[0m in \u001b[0;36m?\u001b[0;34m(self)\u001b[0m\n\u001b[1;32m    639\u001b[0m                     warn_msg += (\"For multiprocessing data-loading, this could be caused by not properly configuring the \"\n\u001b[1;32m    640\u001b[0m                                  \u001b[0;34m\"IterableDataset replica at each worker. Please see \"\u001b[0m\u001b[0;34m\u001b[0m\u001b[0;34m\u001b[0m\u001b[0m\n\u001b[1;32m    641\u001b[0m                                  \"https://pytorch.org/docs/stable/data.html#torch.utils.data.IterableDataset for examples.\")\n\u001b[1;32m    642\u001b[0m                 \u001b[0mwarnings\u001b[0m\u001b[0;34m.\u001b[0m\u001b[0mwarn\u001b[0m\u001b[0;34m(\u001b[0m\u001b[0mwarn_msg\u001b[0m\u001b[0;34m)\u001b[0m\u001b[0;34m\u001b[0m\u001b[0;34m\u001b[0m\u001b[0m\n\u001b[0;32m--> 643\u001b[0;31m             \u001b[0;32mreturn\u001b[0m \u001b[0mdata\u001b[0m\u001b[0;34m\u001b[0m\u001b[0;34m\u001b[0m\u001b[0m\n\u001b[0m",
      "\u001b[0;32m~/Desktop/Projects/japan_re/venv38/lib/python3.8/site-packages/torch/utils/data/dataloader.py\u001b[0m in \u001b[0;36m?\u001b[0;34m(self)\u001b[0m\n\u001b[1;32m    672\u001b[0m     \u001b[0;32mdef\u001b[0m \u001b[0m_next_data\u001b[0m\u001b[0;34m(\u001b[0m\u001b[0mself\u001b[0m\u001b[0;34m)\u001b[0m\u001b[0;34m:\u001b[0m\u001b[0;34m\u001b[0m\u001b[0;34m\u001b[0m\u001b[0m\n\u001b[1;32m    673\u001b[0m         \u001b[0mindex\u001b[0m \u001b[0;34m=\u001b[0m \u001b[0mself\u001b[0m\u001b[0;34m.\u001b[0m\u001b[0m_next_index\u001b[0m\u001b[0;34m(\u001b[0m\u001b[0;34m)\u001b[0m  \u001b[0;31m# may raise StopIteration\u001b[0m\u001b[0;34m\u001b[0m\u001b[0;34m\u001b[0m\u001b[0m\n\u001b[0;32m--> 674\u001b[0;31m         \u001b[0mdata\u001b[0m \u001b[0;34m=\u001b[0m \u001b[0mself\u001b[0m\u001b[0;34m.\u001b[0m\u001b[0m_dataset_fetcher\u001b[0m\u001b[0;34m.\u001b[0m\u001b[0mfetch\u001b[0m\u001b[0;34m(\u001b[0m\u001b[0mindex\u001b[0m\u001b[0;34m)\u001b[0m  \u001b[0;31m# may raise StopIteration\u001b[0m\u001b[0;34m\u001b[0m\u001b[0;34m\u001b[0m\u001b[0m\n\u001b[0m\u001b[1;32m    675\u001b[0m         \u001b[0;32mif\u001b[0m \u001b[0mself\u001b[0m\u001b[0;34m.\u001b[0m\u001b[0m_pin_memory\u001b[0m\u001b[0;34m:\u001b[0m\u001b[0;34m\u001b[0m\u001b[0;34m\u001b[0m\u001b[0m\n\u001b[1;32m    676\u001b[0m             \u001b[0mdata\u001b[0m \u001b[0;34m=\u001b[0m \u001b[0m_utils\u001b[0m\u001b[0;34m.\u001b[0m\u001b[0mpin_memory\u001b[0m\u001b[0;34m.\u001b[0m\u001b[0mpin_memory\u001b[0m\u001b[0;34m(\u001b[0m\u001b[0mdata\u001b[0m\u001b[0;34m,\u001b[0m \u001b[0mself\u001b[0m\u001b[0;34m.\u001b[0m\u001b[0m_pin_memory_device\u001b[0m\u001b[0;34m)\u001b[0m\u001b[0;34m\u001b[0m\u001b[0;34m\u001b[0m\u001b[0m\n\u001b[1;32m    677\u001b[0m         \u001b[0;32mreturn\u001b[0m \u001b[0mdata\u001b[0m\u001b[0;34m\u001b[0m\u001b[0;34m\u001b[0m\u001b[0m\n",
      "\u001b[0;32m~/Desktop/Projects/japan_re/venv38/lib/python3.8/site-packages/torch/utils/data/_utils/fetch.py\u001b[0m in \u001b[0;36m?\u001b[0;34m(self, possibly_batched_index)\u001b[0m\n\u001b[1;32m     47\u001b[0m         \u001b[0;32mif\u001b[0m \u001b[0mself\u001b[0m\u001b[0;34m.\u001b[0m\u001b[0mauto_collation\u001b[0m\u001b[0;34m:\u001b[0m\u001b[0;34m\u001b[0m\u001b[0;34m\u001b[0m\u001b[0m\n\u001b[1;32m     48\u001b[0m             \u001b[0;32mif\u001b[0m \u001b[0mhasattr\u001b[0m\u001b[0;34m(\u001b[0m\u001b[0mself\u001b[0m\u001b[0;34m.\u001b[0m\u001b[0mdataset\u001b[0m\u001b[0;34m,\u001b[0m \u001b[0;34m\"__getitems__\"\u001b[0m\u001b[0;34m)\u001b[0m \u001b[0;32mand\u001b[0m \u001b[0mself\u001b[0m\u001b[0;34m.\u001b[0m\u001b[0mdataset\u001b[0m\u001b[0;34m.\u001b[0m\u001b[0m__getitems__\u001b[0m\u001b[0;34m:\u001b[0m\u001b[0;34m\u001b[0m\u001b[0;34m\u001b[0m\u001b[0m\n\u001b[1;32m     49\u001b[0m                 \u001b[0mdata\u001b[0m \u001b[0;34m=\u001b[0m \u001b[0mself\u001b[0m\u001b[0;34m.\u001b[0m\u001b[0mdataset\u001b[0m\u001b[0;34m.\u001b[0m\u001b[0m__getitems__\u001b[0m\u001b[0;34m(\u001b[0m\u001b[0mpossibly_batched_index\u001b[0m\u001b[0;34m)\u001b[0m\u001b[0;34m\u001b[0m\u001b[0;34m\u001b[0m\u001b[0m\n\u001b[1;32m     50\u001b[0m             \u001b[0;32melse\u001b[0m\u001b[0;34m:\u001b[0m\u001b[0;34m\u001b[0m\u001b[0;34m\u001b[0m\u001b[0m\n\u001b[0;32m---> 51\u001b[0;31m                 \u001b[0mdata\u001b[0m \u001b[0;34m=\u001b[0m \u001b[0;34m[\u001b[0m\u001b[0mself\u001b[0m\u001b[0;34m.\u001b[0m\u001b[0mdataset\u001b[0m\u001b[0;34m[\u001b[0m\u001b[0midx\u001b[0m\u001b[0;34m]\u001b[0m \u001b[0;32mfor\u001b[0m \u001b[0midx\u001b[0m \u001b[0;32min\u001b[0m \u001b[0mpossibly_batched_index\u001b[0m\u001b[0;34m]\u001b[0m\u001b[0;34m\u001b[0m\u001b[0;34m\u001b[0m\u001b[0m\n\u001b[0m\u001b[1;32m     52\u001b[0m         \u001b[0;32melse\u001b[0m\u001b[0;34m:\u001b[0m\u001b[0;34m\u001b[0m\u001b[0;34m\u001b[0m\u001b[0m\n\u001b[1;32m     53\u001b[0m             \u001b[0mdata\u001b[0m \u001b[0;34m=\u001b[0m \u001b[0mself\u001b[0m\u001b[0;34m.\u001b[0m\u001b[0mdataset\u001b[0m\u001b[0;34m[\u001b[0m\u001b[0mpossibly_batched_index\u001b[0m\u001b[0;34m]\u001b[0m\u001b[0;34m\u001b[0m\u001b[0;34m\u001b[0m\u001b[0m\n\u001b[1;32m     54\u001b[0m         \u001b[0;32mreturn\u001b[0m \u001b[0mself\u001b[0m\u001b[0;34m.\u001b[0m\u001b[0mcollate_fn\u001b[0m\u001b[0;34m(\u001b[0m\u001b[0mdata\u001b[0m\u001b[0;34m)\u001b[0m\u001b[0;34m\u001b[0m\u001b[0;34m\u001b[0m\u001b[0m\n",
      "\u001b[0;32m~/Desktop/Projects/japan_re/venv38/lib/python3.8/site-packages/torch/utils/data/_utils/fetch.py\u001b[0m in \u001b[0;36m?\u001b[0;34m(.0)\u001b[0m\n\u001b[0;32m---> 51\u001b[0;31m     \u001b[0;32mdef\u001b[0m \u001b[0mfetch\u001b[0m\u001b[0;34m(\u001b[0m\u001b[0mself\u001b[0m\u001b[0;34m,\u001b[0m \u001b[0mpossibly_batched_index\u001b[0m\u001b[0;34m)\u001b[0m\u001b[0;34m:\u001b[0m\u001b[0;34m\u001b[0m\u001b[0;34m\u001b[0m\u001b[0m\n\u001b[0m\u001b[1;32m     52\u001b[0m         \u001b[0;32mif\u001b[0m \u001b[0mself\u001b[0m\u001b[0;34m.\u001b[0m\u001b[0mauto_collation\u001b[0m\u001b[0;34m:\u001b[0m\u001b[0;34m\u001b[0m\u001b[0;34m\u001b[0m\u001b[0m\n\u001b[1;32m     53\u001b[0m             \u001b[0;32mif\u001b[0m \u001b[0mhasattr\u001b[0m\u001b[0;34m(\u001b[0m\u001b[0mself\u001b[0m\u001b[0;34m.\u001b[0m\u001b[0mdataset\u001b[0m\u001b[0;34m,\u001b[0m \u001b[0;34m\"__getitems__\"\u001b[0m\u001b[0;34m)\u001b[0m \u001b[0;32mand\u001b[0m \u001b[0mself\u001b[0m\u001b[0;34m.\u001b[0m\u001b[0mdataset\u001b[0m\u001b[0;34m.\u001b[0m\u001b[0m__getitems__\u001b[0m\u001b[0;34m:\u001b[0m\u001b[0;34m\u001b[0m\u001b[0;34m\u001b[0m\u001b[0m\n\u001b[1;32m     54\u001b[0m                 \u001b[0mdata\u001b[0m \u001b[0;34m=\u001b[0m \u001b[0mself\u001b[0m\u001b[0;34m.\u001b[0m\u001b[0mdataset\u001b[0m\u001b[0;34m.\u001b[0m\u001b[0m__getitems__\u001b[0m\u001b[0;34m(\u001b[0m\u001b[0mpossibly_batched_index\u001b[0m\u001b[0;34m)\u001b[0m\u001b[0;34m\u001b[0m\u001b[0;34m\u001b[0m\u001b[0m\n",
      "\u001b[0;32m~/Desktop/Projects/japan_re/venv38/lib/python3.8/site-packages/torch/utils/data/dataset.py\u001b[0m in \u001b[0;36m?\u001b[0;34m(self, idx)\u001b[0m\n\u001b[1;32m    298\u001b[0m         \u001b[0;32mif\u001b[0m \u001b[0mdataset_idx\u001b[0m \u001b[0;34m==\u001b[0m \u001b[0;36m0\u001b[0m\u001b[0;34m:\u001b[0m\u001b[0;34m\u001b[0m\u001b[0;34m\u001b[0m\u001b[0m\n\u001b[1;32m    299\u001b[0m             \u001b[0msample_idx\u001b[0m \u001b[0;34m=\u001b[0m \u001b[0midx\u001b[0m\u001b[0;34m\u001b[0m\u001b[0;34m\u001b[0m\u001b[0m\n\u001b[1;32m    300\u001b[0m         \u001b[0;32melse\u001b[0m\u001b[0;34m:\u001b[0m\u001b[0;34m\u001b[0m\u001b[0;34m\u001b[0m\u001b[0m\n\u001b[1;32m    301\u001b[0m             \u001b[0msample_idx\u001b[0m \u001b[0;34m=\u001b[0m \u001b[0midx\u001b[0m \u001b[0;34m-\u001b[0m \u001b[0mself\u001b[0m\u001b[0;34m.\u001b[0m\u001b[0mcumulative_sizes\u001b[0m\u001b[0;34m[\u001b[0m\u001b[0mdataset_idx\u001b[0m \u001b[0;34m-\u001b[0m \u001b[0;36m1\u001b[0m\u001b[0;34m]\u001b[0m\u001b[0;34m\u001b[0m\u001b[0;34m\u001b[0m\u001b[0m\n\u001b[0;32m--> 302\u001b[0;31m         \u001b[0;32mreturn\u001b[0m \u001b[0mself\u001b[0m\u001b[0;34m.\u001b[0m\u001b[0mdatasets\u001b[0m\u001b[0;34m[\u001b[0m\u001b[0mdataset_idx\u001b[0m\u001b[0;34m]\u001b[0m\u001b[0;34m[\u001b[0m\u001b[0msample_idx\u001b[0m\u001b[0;34m]\u001b[0m\u001b[0;34m\u001b[0m\u001b[0;34m\u001b[0m\u001b[0m\n\u001b[0m",
      "\u001b[0;32m~/Desktop/Projects/japan_re/venv38/lib/python3.8/site-packages/jre_utils/data.py\u001b[0m in \u001b[0;36m?\u001b[0;34m(self, idx)\u001b[0m\n\u001b[1;32m    170\u001b[0m         \u001b[0marea_df\u001b[0m\u001b[0;34m[\u001b[0m\u001b[0;34m\"land\"\u001b[0m\u001b[0;34m]\u001b[0m \u001b[0;34m=\u001b[0m \u001b[0mself\u001b[0m\u001b[0;34m.\u001b[0m\u001b[0masset_type\u001b[0m \u001b[0;34m==\u001b[0m \u001b[0;34m\"land\"\u001b[0m\u001b[0;34m\u001b[0m\u001b[0;34m\u001b[0m\u001b[0m\n\u001b[1;32m    171\u001b[0m         \u001b[0marea_df\u001b[0m\u001b[0;34m[\u001b[0m\u001b[0;34m\"condo\"\u001b[0m\u001b[0;34m]\u001b[0m \u001b[0;34m=\u001b[0m \u001b[0mself\u001b[0m\u001b[0;34m.\u001b[0m\u001b[0masset_type\u001b[0m \u001b[0;34m==\u001b[0m \u001b[0;34m\"condo\"\u001b[0m\u001b[0;34m\u001b[0m\u001b[0;34m\u001b[0m\u001b[0m\n\u001b[1;32m    172\u001b[0m \u001b[0;34m\u001b[0m\u001b[0m\n\u001b[1;32m    173\u001b[0m         sample = {\n\u001b[0;32m--> 174\u001b[0;31m             \u001b[0;34m\"window\"\u001b[0m\u001b[0;34m:\u001b[0m \u001b[0marea_df\u001b[0m\u001b[0;34m[\u001b[0m\u001b[0mself\u001b[0m\u001b[0;34m.\u001b[0m\u001b[0mfeature_columns\u001b[0m\u001b[0;34m]\u001b[0m\u001b[0;34m.\u001b[0m\u001b[0mastype\u001b[0m\u001b[0;34m(\u001b[0m\u001b[0mfloat\u001b[0m\u001b[0;34m)\u001b[0m\u001b[0;34m,\u001b[0m\u001b[0;34m\u001b[0m\u001b[0;34m\u001b[0m\u001b[0m\n\u001b[0m\u001b[1;32m    175\u001b[0m             \"target\": (\n\u001b[1;32m    176\u001b[0m                 \u001b[0mtarget\u001b[0m\u001b[0;34m.\u001b[0m\u001b[0mastype\u001b[0m\u001b[0;34m(\u001b[0m\u001b[0mfloat\u001b[0m\u001b[0;34m)\u001b[0m\u001b[0;34m\u001b[0m\u001b[0;34m\u001b[0m\u001b[0m\n\u001b[1;32m    177\u001b[0m                 \u001b[0;32mif\u001b[0m \u001b[0mself\u001b[0m\u001b[0;34m.\u001b[0m\u001b[0mtype\u001b[0m \u001b[0;34m==\u001b[0m \u001b[0;34m\"regression\"\u001b[0m\u001b[0;34m\u001b[0m\u001b[0;34m\u001b[0m\u001b[0m\n",
      "\u001b[0;32m~/Desktop/Projects/japan_re/venv38/lib/python3.8/site-packages/pandas/core/frame.py\u001b[0m in \u001b[0;36m?\u001b[0;34m(self, key)\u001b[0m\n\u001b[1;32m   3815\u001b[0m         \u001b[0;31m# take() does not accept boolean indexers\u001b[0m\u001b[0;34m\u001b[0m\u001b[0;34m\u001b[0m\u001b[0;34m\u001b[0m\u001b[0m\n\u001b[1;32m   3816\u001b[0m         \u001b[0;32mif\u001b[0m \u001b[0mgetattr\u001b[0m\u001b[0;34m(\u001b[0m\u001b[0mindexer\u001b[0m\u001b[0;34m,\u001b[0m \u001b[0;34m\"dtype\"\u001b[0m\u001b[0;34m,\u001b[0m \u001b[0;32mNone\u001b[0m\u001b[0;34m)\u001b[0m \u001b[0;34m==\u001b[0m \u001b[0mbool\u001b[0m\u001b[0;34m:\u001b[0m\u001b[0;34m\u001b[0m\u001b[0;34m\u001b[0m\u001b[0m\n\u001b[1;32m   3817\u001b[0m             \u001b[0mindexer\u001b[0m \u001b[0;34m=\u001b[0m \u001b[0mnp\u001b[0m\u001b[0;34m.\u001b[0m\u001b[0mwhere\u001b[0m\u001b[0;34m(\u001b[0m\u001b[0mindexer\u001b[0m\u001b[0;34m)\u001b[0m\u001b[0;34m[\u001b[0m\u001b[0;36m0\u001b[0m\u001b[0;34m]\u001b[0m\u001b[0;34m\u001b[0m\u001b[0;34m\u001b[0m\u001b[0m\n\u001b[1;32m   3818\u001b[0m \u001b[0;34m\u001b[0m\u001b[0m\n\u001b[0;32m-> 3819\u001b[0;31m         \u001b[0mdata\u001b[0m \u001b[0;34m=\u001b[0m \u001b[0mself\u001b[0m\u001b[0;34m.\u001b[0m\u001b[0m_take_with_is_copy\u001b[0m\u001b[0;34m(\u001b[0m\u001b[0mindexer\u001b[0m\u001b[0;34m,\u001b[0m \u001b[0maxis\u001b[0m\u001b[0;34m=\u001b[0m\u001b[0;36m1\u001b[0m\u001b[0;34m)\u001b[0m\u001b[0;34m\u001b[0m\u001b[0;34m\u001b[0m\u001b[0m\n\u001b[0m\u001b[1;32m   3820\u001b[0m \u001b[0;34m\u001b[0m\u001b[0m\n\u001b[1;32m   3821\u001b[0m         \u001b[0;32mif\u001b[0m \u001b[0mis_single_key\u001b[0m\u001b[0;34m:\u001b[0m\u001b[0;34m\u001b[0m\u001b[0;34m\u001b[0m\u001b[0m\n\u001b[1;32m   3822\u001b[0m             \u001b[0;31m# What does looking for a single key in a non-unique index return?\u001b[0m\u001b[0;34m\u001b[0m\u001b[0;34m\u001b[0m\u001b[0;34m\u001b[0m\u001b[0m\n",
      "\u001b[0;32m~/Desktop/Projects/japan_re/venv38/lib/python3.8/site-packages/pandas/core/generic.py\u001b[0m in \u001b[0;36m?\u001b[0;34m(self, indices, axis)\u001b[0m\n\u001b[1;32m   3898\u001b[0m         for the SettingWithCopyWarning).\n\u001b[1;32m   3899\u001b[0m \u001b[0;34m\u001b[0m\u001b[0m\n\u001b[1;32m   3900\u001b[0m         \u001b[0mSee\u001b[0m \u001b[0mthe\u001b[0m \u001b[0mdocstring\u001b[0m \u001b[0mof\u001b[0m\u001b[0;31m \u001b[0m\u001b[0;31m`\u001b[0m\u001b[0mtake\u001b[0m\u001b[0;31m`\u001b[0m \u001b[0;32mfor\u001b[0m \u001b[0mfull\u001b[0m \u001b[0mexplanation\u001b[0m \u001b[0mof\u001b[0m \u001b[0mthe\u001b[0m \u001b[0mparameters\u001b[0m\u001b[0;34m.\u001b[0m\u001b[0;34m\u001b[0m\u001b[0;34m\u001b[0m\u001b[0m\n\u001b[1;32m   3901\u001b[0m         \"\"\"\n\u001b[0;32m-> 3902\u001b[0;31m         \u001b[0mresult\u001b[0m \u001b[0;34m=\u001b[0m \u001b[0mself\u001b[0m\u001b[0;34m.\u001b[0m\u001b[0m_take\u001b[0m\u001b[0;34m(\u001b[0m\u001b[0mindices\u001b[0m\u001b[0;34m=\u001b[0m\u001b[0mindices\u001b[0m\u001b[0;34m,\u001b[0m \u001b[0maxis\u001b[0m\u001b[0;34m=\u001b[0m\u001b[0maxis\u001b[0m\u001b[0;34m)\u001b[0m\u001b[0;34m\u001b[0m\u001b[0;34m\u001b[0m\u001b[0m\n\u001b[0m\u001b[1;32m   3903\u001b[0m         \u001b[0;31m# Maybe set copy if we didn't actually change the index.\u001b[0m\u001b[0;34m\u001b[0m\u001b[0;34m\u001b[0m\u001b[0;34m\u001b[0m\u001b[0m\n\u001b[1;32m   3904\u001b[0m         \u001b[0;32mif\u001b[0m \u001b[0;32mnot\u001b[0m \u001b[0mresult\u001b[0m\u001b[0;34m.\u001b[0m\u001b[0m_get_axis\u001b[0m\u001b[0;34m(\u001b[0m\u001b[0maxis\u001b[0m\u001b[0;34m)\u001b[0m\u001b[0;34m.\u001b[0m\u001b[0mequals\u001b[0m\u001b[0;34m(\u001b[0m\u001b[0mself\u001b[0m\u001b[0;34m.\u001b[0m\u001b[0m_get_axis\u001b[0m\u001b[0;34m(\u001b[0m\u001b[0maxis\u001b[0m\u001b[0;34m)\u001b[0m\u001b[0;34m)\u001b[0m\u001b[0;34m:\u001b[0m\u001b[0;34m\u001b[0m\u001b[0;34m\u001b[0m\u001b[0m\n\u001b[1;32m   3905\u001b[0m             \u001b[0mresult\u001b[0m\u001b[0;34m.\u001b[0m\u001b[0m_set_is_copy\u001b[0m\u001b[0;34m(\u001b[0m\u001b[0mself\u001b[0m\u001b[0;34m)\u001b[0m\u001b[0;34m\u001b[0m\u001b[0;34m\u001b[0m\u001b[0m\n",
      "\u001b[0;32m~/Desktop/Projects/japan_re/venv38/lib/python3.8/site-packages/pandas/core/generic.py\u001b[0m in \u001b[0;36m?\u001b[0;34m(self, indices, axis, convert_indices)\u001b[0m\n\u001b[1;32m   3888\u001b[0m             \u001b[0maxis\u001b[0m\u001b[0;34m=\u001b[0m\u001b[0mself\u001b[0m\u001b[0;34m.\u001b[0m\u001b[0m_get_block_manager_axis\u001b[0m\u001b[0;34m(\u001b[0m\u001b[0maxis\u001b[0m\u001b[0;34m)\u001b[0m\u001b[0;34m,\u001b[0m\u001b[0;34m\u001b[0m\u001b[0;34m\u001b[0m\u001b[0m\n\u001b[1;32m   3889\u001b[0m             \u001b[0mverify\u001b[0m\u001b[0;34m=\u001b[0m\u001b[0;32mTrue\u001b[0m\u001b[0;34m,\u001b[0m\u001b[0;34m\u001b[0m\u001b[0;34m\u001b[0m\u001b[0m\n\u001b[1;32m   3890\u001b[0m             \u001b[0mconvert_indices\u001b[0m\u001b[0;34m=\u001b[0m\u001b[0mconvert_indices\u001b[0m\u001b[0;34m,\u001b[0m\u001b[0;34m\u001b[0m\u001b[0;34m\u001b[0m\u001b[0m\n\u001b[1;32m   3891\u001b[0m         )\n\u001b[0;32m-> 3892\u001b[0;31m         \u001b[0;32mreturn\u001b[0m \u001b[0mself\u001b[0m\u001b[0;34m.\u001b[0m\u001b[0m_constructor\u001b[0m\u001b[0;34m(\u001b[0m\u001b[0mnew_data\u001b[0m\u001b[0;34m)\u001b[0m\u001b[0;34m.\u001b[0m\u001b[0m__finalize__\u001b[0m\u001b[0;34m(\u001b[0m\u001b[0mself\u001b[0m\u001b[0;34m,\u001b[0m \u001b[0mmethod\u001b[0m\u001b[0;34m=\u001b[0m\u001b[0;34m\"take\"\u001b[0m\u001b[0;34m)\u001b[0m\u001b[0;34m\u001b[0m\u001b[0;34m\u001b[0m\u001b[0m\n\u001b[0m",
      "\u001b[0;32m~/Desktop/Projects/japan_re/venv38/lib/python3.8/site-packages/pandas/core/frame.py\u001b[0m in \u001b[0;36m?\u001b[0;34m(self, data, index, columns, dtype, copy)\u001b[0m\n\u001b[1;32m    627\u001b[0m             \u001b[0;31m# first check if a Manager is passed without any other arguments\u001b[0m\u001b[0;34m\u001b[0m\u001b[0;34m\u001b[0m\u001b[0;34m\u001b[0m\u001b[0m\n\u001b[1;32m    628\u001b[0m             \u001b[0;31m# -> use fastpath (without checking Manager type)\u001b[0m\u001b[0;34m\u001b[0m\u001b[0;34m\u001b[0m\u001b[0;34m\u001b[0m\u001b[0m\n\u001b[1;32m    629\u001b[0m             \u001b[0;32mif\u001b[0m \u001b[0mindex\u001b[0m \u001b[0;32mis\u001b[0m \u001b[0;32mNone\u001b[0m \u001b[0;32mand\u001b[0m \u001b[0mcolumns\u001b[0m \u001b[0;32mis\u001b[0m \u001b[0;32mNone\u001b[0m \u001b[0;32mand\u001b[0m \u001b[0mdtype\u001b[0m \u001b[0;32mis\u001b[0m \u001b[0;32mNone\u001b[0m \u001b[0;32mand\u001b[0m \u001b[0;32mnot\u001b[0m \u001b[0mcopy\u001b[0m\u001b[0;34m:\u001b[0m\u001b[0;34m\u001b[0m\u001b[0;34m\u001b[0m\u001b[0m\n\u001b[1;32m    630\u001b[0m                 \u001b[0;31m# GH#33357 fastpath\u001b[0m\u001b[0;34m\u001b[0m\u001b[0;34m\u001b[0m\u001b[0;34m\u001b[0m\u001b[0m\n\u001b[0;32m--> 631\u001b[0;31m                 \u001b[0mNDFrame\u001b[0m\u001b[0;34m.\u001b[0m\u001b[0m__init__\u001b[0m\u001b[0;34m(\u001b[0m\u001b[0mself\u001b[0m\u001b[0;34m,\u001b[0m \u001b[0mdata\u001b[0m\u001b[0;34m)\u001b[0m\u001b[0;34m\u001b[0m\u001b[0;34m\u001b[0m\u001b[0m\n\u001b[0m\u001b[1;32m    632\u001b[0m                 \u001b[0;32mreturn\u001b[0m\u001b[0;34m\u001b[0m\u001b[0;34m\u001b[0m\u001b[0m\n\u001b[1;32m    633\u001b[0m \u001b[0;34m\u001b[0m\u001b[0m\n\u001b[1;32m    634\u001b[0m         \u001b[0mmanager\u001b[0m \u001b[0;34m=\u001b[0m \u001b[0mget_option\u001b[0m\u001b[0;34m(\u001b[0m\u001b[0;34m\"mode.data_manager\"\u001b[0m\u001b[0;34m)\u001b[0m\u001b[0;34m\u001b[0m\u001b[0;34m\u001b[0m\u001b[0m\n",
      "\u001b[0;32m~/Desktop/Projects/japan_re/venv38/lib/python3.8/site-packages/pandas/core/generic.py\u001b[0m in \u001b[0;36m?\u001b[0;34m(self, data, copy, attrs)\u001b[0m\n\u001b[1;32m    263\u001b[0m         \u001b[0mattrs\u001b[0m\u001b[0;34m:\u001b[0m \u001b[0mMapping\u001b[0m\u001b[0;34m[\u001b[0m\u001b[0mHashable\u001b[0m\u001b[0;34m,\u001b[0m \u001b[0mAny\u001b[0m\u001b[0;34m]\u001b[0m \u001b[0;34m|\u001b[0m \u001b[0;32mNone\u001b[0m \u001b[0;34m=\u001b[0m \u001b[0;32mNone\u001b[0m\u001b[0;34m,\u001b[0m\u001b[0;34m\u001b[0m\u001b[0;34m\u001b[0m\u001b[0m\n\u001b[1;32m    264\u001b[0m     ) -> None:\n\u001b[1;32m    265\u001b[0m         \u001b[0;31m# copy kwarg is retained for mypy compat, is not used\u001b[0m\u001b[0;34m\u001b[0m\u001b[0;34m\u001b[0m\u001b[0;34m\u001b[0m\u001b[0m\n\u001b[1;32m    266\u001b[0m \u001b[0;34m\u001b[0m\u001b[0m\n\u001b[0;32m--> 267\u001b[0;31m         \u001b[0mobject\u001b[0m\u001b[0;34m.\u001b[0m\u001b[0m__setattr__\u001b[0m\u001b[0;34m(\u001b[0m\u001b[0mself\u001b[0m\u001b[0;34m,\u001b[0m \u001b[0;34m\"_is_copy\"\u001b[0m\u001b[0;34m,\u001b[0m \u001b[0;32mNone\u001b[0m\u001b[0;34m)\u001b[0m\u001b[0;34m\u001b[0m\u001b[0;34m\u001b[0m\u001b[0m\n\u001b[0m\u001b[1;32m    268\u001b[0m         \u001b[0mobject\u001b[0m\u001b[0;34m.\u001b[0m\u001b[0m__setattr__\u001b[0m\u001b[0;34m(\u001b[0m\u001b[0mself\u001b[0m\u001b[0;34m,\u001b[0m \u001b[0;34m\"_mgr\"\u001b[0m\u001b[0;34m,\u001b[0m \u001b[0mdata\u001b[0m\u001b[0;34m)\u001b[0m\u001b[0;34m\u001b[0m\u001b[0;34m\u001b[0m\u001b[0m\n\u001b[1;32m    269\u001b[0m         \u001b[0mobject\u001b[0m\u001b[0;34m.\u001b[0m\u001b[0m__setattr__\u001b[0m\u001b[0;34m(\u001b[0m\u001b[0mself\u001b[0m\u001b[0;34m,\u001b[0m \u001b[0;34m\"_item_cache\"\u001b[0m\u001b[0;34m,\u001b[0m \u001b[0;34m{\u001b[0m\u001b[0;34m}\u001b[0m\u001b[0;34m)\u001b[0m\u001b[0;34m\u001b[0m\u001b[0;34m\u001b[0m\u001b[0m\n\u001b[1;32m    270\u001b[0m         \u001b[0;32mif\u001b[0m \u001b[0mattrs\u001b[0m \u001b[0;32mis\u001b[0m \u001b[0;32mNone\u001b[0m\u001b[0;34m:\u001b[0m\u001b[0;34m\u001b[0m\u001b[0;34m\u001b[0m\u001b[0m\n",
      "\u001b[0;31mKeyboardInterrupt\u001b[0m: "
     ]
    }
   ],
   "source": [
    "# progress_bar = tqdm(range(num_training_steps))\n",
    "# 8, 8, 0.1 (4y)\n",
    "\n",
    "progress_bar = None\n",
    "\n",
    "for epoch in range(num_epochs):\n",
    "    train_loss, train_r2_score = train_weighted(\n",
    "        model, train_dataloader, optimizer, lr_scheduler, progress_bar, device=device\n",
    "    )\n",
    "    train_losses.append(train_loss)\n",
    "    train_r2_scores.append(train_r2_score)\n",
    "\n",
    "    eval_loss, eval_r2_score = evaluate_weighted(model, eval_dataloader, device=device)\n",
    "    eval_losses.append(eval_loss)\n",
    "    eval_r2_scores.append(eval_r2_score)\n",
    "\n",
    "    print(f\"Epoch: {epoch}\")\n",
    "    print(f\"Train Loss: {train_loss:.4f}, Eval Loss: {eval_loss:.4f}\")\n",
    "    print(f\"Train R^2: {train_r2_score:.4f}, Eval R^2: {eval_r2_score:.4f}\")\n",
    "\n",
    "# progress_bar.close()"
   ]
  },
  {
   "cell_type": "code",
   "execution_count": null,
   "metadata": {},
   "outputs": [
    {
     "data": {
      "image/png": "[encoded data removed]",
      "text/plain": [
       "<Figure size 640x480 with 1 Axes>"
      ]
     },
     "metadata": {},
     "output_type": "display_data"
    }
   ],
   "source": [
    "# Plot MSE\n",
    "plt.plot(train_losses, label=\"train\")\n",
    "plt.plot(eval_losses, label=\"eval\")\n",
    "plt.xlabel(\"epoch\")\n",
    "plt.ylabel(\"loss\")\n",
    "plt.title(\"loss over epochs\")\n",
    "plt.legend()\n",
    "plt.show()"
   ]
  },
  {
   "cell_type": "code",
   "execution_count": 318,
   "metadata": {},
   "outputs": [
    {
     "data": {
      "image/png": "[encoded data removed]",
      "text/plain": [
       "<Figure size 640x480 with 1 Axes>"
      ]
     },
     "metadata": {},
     "output_type": "display_data"
    }
   ],
   "source": [
    "# Plot R2 scores\n",
    "plt.plot(train_r2_scores, label=\"train\")\n",
    "plt.plot(eval_r2_scores, label=\"eval\")\n",
    "plt.xlabel(\"epoch\")\n",
    "plt.ylabel(\"r2 score\")\n",
    "plt.title(\"r2 scores over epochs\")\n",
    "plt.legend()\n",
    "plt.show()"
   ]
  },
  {
   "cell_type": "code",
   "execution_count": 275,
   "metadata": {},
   "outputs": [
    {
     "name": "stdout",
     "output_type": "stream",
     "text": [
      "Eval loss: 6.6670\n",
      "Eval R2: 0.2795\n"
     ]
    }
   ],
   "source": [
    "# smoothed model\n",
    "loss, epoch_r2_score = evaluate_weighted(model, eval_dataloader, device=device)\n",
    "print(f\"Eval loss: {loss:.4f}\")\n",
    "print(f\"Eval R2: {epoch_r2_score:.4f}\")"
   ]
  },
  {
   "cell_type": "code",
   "execution_count": 276,
   "metadata": {},
   "outputs": [],
   "source": [
    "dataset_name = f\"sequence_{dataset_key}_{dataset_asset_type}_{metric_key}_{years_ahead}\"\n",
    "model_ready_data_path = model_ready_data_paths[dataset_name]\n",
    "\n",
    "# Load and Prepare DFs\n",
    "df = pd.read_csv(model_ready_data_path)\n",
    "df = df.sample(frac=1).reset_index(drop=True)\n",
    "df = df.sort_values(by=[\"year\"]).reset_index(drop=True)\n",
    "\n",
    "yearly_dataframes = {\n",
    "    asset_type: {\n",
    "        f\"{year}\": drop_invalid_rows(\n",
    "            df[df[\"year\"] == year], f\"{asset_type}_{metric_sharpe}\"\n",
    "        )\n",
    "        for year in [2021, 2022]\n",
    "    }\n",
    "    for asset_type in asset_types_to_train\n",
    "}\n",
    "\n",
    "df = df.fillna(0)\n",
    "\n",
    "for investment_asset_type in asset_types_to_train:\n",
    "    for year in [2021, 2022]:\n",
    "        dataset_name = (\n",
    "            f\"sequence_{dataset_key}_{investment_asset_type}_{metric_key}_{years_ahead}\"\n",
    "        )\n",
    "        output_dataset_name = f\"{dataset_name}_{year}\"\n",
    "        model_output_data_path = model_output_data_paths[output_dataset_name]\n",
    "\n",
    "        prediction_df = yearly_dataframes[investment_asset_type][f\"{year}\"]\n",
    "\n",
    "        prediction_df[\"predicted_normalized_return\"] = predict_returns(\n",
    "            model,\n",
    "            df,\n",
    "            prediction_df,\n",
    "            investment_asset_type,\n",
    "            get_feature_columns_for_asset_type(investment_asset_type, include_label=False),\n",
    "            device=device,\n",
    "        )\n",
    "\n",
    "        prediction_df[\"asset_type\"] = investment_asset_type\n",
    "        prediction_df[\n",
    "            [\n",
    "                \"year\",\n",
    "                \"area_code\",\n",
    "                \"asset_type\",\n",
    "                \"predicted_normalized_return\",\n",
    "                f\"{investment_asset_type}_yearly_price_growth\",\n",
    "                f\"{investment_asset_type}_{metric_sharpe}\",\n",
    "                f\"{investment_asset_type}_{normalized_metric_sharpe}\",\n",
    "            ]\n",
    "        ].to_csv(model_output_data_path, index=False)"
   ]
  },
  {
   "cell_type": "code",
   "execution_count": 277,
   "metadata": {},
   "outputs": [
    {
     "data": {
      "image/png": "[encoded data removed]",
      "text/plain": [
       "<Figure size 500x500 with 1 Axes>"
      ]
     },
     "metadata": {},
     "output_type": "display_data"
    }
   ],
   "source": [
    "_, ax = plt.subplots(figsize=(5, 5))\n",
    "display = PredictionErrorDisplay.from_predictions(\n",
    "    prediction_df[f\"{investment_asset_type}_{normalized_metric_sharpe}\"],\n",
    "    prediction_df[\"predicted_normalized_return\"],\n",
    "    kind=\"actual_vs_predicted\",\n",
    "    ax=ax,\n",
    "    scatter_kwargs={\"alpha\": 0.5},\n",
    ")\n",
    "ax.set_title(\"Transformer model performance\")\n",
    "plt.tight_layout()"
   ]
  },
  {
   "cell_type": "code",
   "execution_count": 278,
   "metadata": {},
   "outputs": [
    {
     "data": {
      "image/png": "[encoded data removed]",
      "text/plain": [
       "<Figure size 500x500 with 1 Axes>"
      ]
     },
     "metadata": {},
     "output_type": "display_data"
    }
   ],
   "source": [
    "_, ax = plt.subplots(figsize=(5, 5))\n",
    "display = PredictionErrorDisplay.from_predictions(\n",
    "    prediction_df[f\"{investment_asset_type}_{normalized_metric_sharpe}\"],\n",
    "    prediction_df[\"predicted_normalized_return\"],\n",
    "    kind=\"residual_vs_predicted\",\n",
    "    ax=ax,\n",
    "    scatter_kwargs={\"alpha\": 0.5},\n",
    ")\n",
    "ax.set_title(\"Transformer model performance\")\n",
    "plt.tight_layout()"
   ]
  },
  {
   "cell_type": "code",
   "execution_count": 239,
   "metadata": {},
   "outputs": [
    {
     "data": {
      "text/plain": [
       "TimeSeriesTransformerDecoderModel(\n",
       "  (embedding): Linear(in_features=14, out_features=128, bias=True)\n",
       "  (pos_encoder): PositionalEncoding(\n",
       "    (dropout): Dropout(p=0, inplace=False)\n",
       "  )\n",
       "  (transformer_decoder): TransformerDecoder(\n",
       "    (layers): ModuleList(\n",
       "      (0-3): 4 x TransformerDecoderLayer(\n",
       "        (self_attn): MultiheadAttention(\n",
       "          (out_proj): NonDynamicallyQuantizableLinear(in_features=128, out_features=128, bias=True)\n",
       "        )\n",
       "        (multihead_attn): MultiheadAttention(\n",
       "          (out_proj): NonDynamicallyQuantizableLinear(in_features=128, out_features=128, bias=True)\n",
       "        )\n",
       "        (linear1): Linear(in_features=128, out_features=128, bias=True)\n",
       "        (dropout): Dropout(p=0, inplace=False)\n",
       "        (linear2): Linear(in_features=128, out_features=128, bias=True)\n",
       "        (norm1): LayerNorm((128,), eps=1e-05, elementwise_affine=True)\n",
       "        (norm2): LayerNorm((128,), eps=1e-05, elementwise_affine=True)\n",
       "        (norm3): LayerNorm((128,), eps=1e-05, elementwise_affine=True)\n",
       "        (dropout1): Dropout(p=0, inplace=False)\n",
       "        (dropout2): Dropout(p=0, inplace=False)\n",
       "        (dropout3): Dropout(p=0, inplace=False)\n",
       "      )\n",
       "    )\n",
       "  )\n",
       "  (linear): Linear(in_features=128, out_features=1, bias=True)\n",
       ")"
      ]
     },
     "execution_count": 239,
     "metadata": {},
     "output_type": "execute_result"
    }
   ],
   "source": [
    "model"
   ]
  },
  {
   "cell_type": "code",
   "execution_count": 240,
   "metadata": {},
   "outputs": [
    {
     "name": "stdout",
     "output_type": "stream",
     "text": [
      "Number of parameters: 665601\n"
     ]
    }
   ],
   "source": [
    "print(f\"Number of parameters: {sum(p.numel() for p in model.parameters())}\")"
   ]
  },
  {
   "cell_type": "code",
   "execution_count": null,
   "metadata": {},
   "outputs": [],
   "source": []
  }
 ],
 "metadata": {
  "kernelspec": {
   "display_name": "venv38",
   "language": "python",
   "name": "python3"
  },
  "language_info": {
   "codemirror_mode": {
    "name": "ipython",
    "version": 3
   },
   "file_extension": ".py",
   "mimetype": "text/x-python",
   "name": "python",
   "nbconvert_exporter": "python",
   "pygments_lexer": "ipython3",
   "version": "3.8.19"
  }
 },
 "nbformat": 4,
 "nbformat_minor": 2
}
